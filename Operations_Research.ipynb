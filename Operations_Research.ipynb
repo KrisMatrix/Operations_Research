{
  "nbformat": 4,
  "nbformat_minor": 0,
  "metadata": {
    "colab": {
      "provenance": [],
      "authorship_tag": "ABX9TyOP5EiOVcc1+Ea/mt+BgFpg",
      "include_colab_link": true
    },
    "kernelspec": {
      "name": "python3",
      "display_name": "Python 3"
    },
    "language_info": {
      "name": "python"
    }
  },
  "cells": [
    {
      "cell_type": "markdown",
      "metadata": {
        "id": "view-in-github",
        "colab_type": "text"
      },
      "source": [
        "<a href=\"https://colab.research.google.com/github/KrisMatrix/Operations_Research/blob/main/Operations_Research.ipynb\" target=\"_parent\"><img src=\"https://colab.research.google.com/assets/colab-badge.svg\" alt=\"Open In Colab\"/></a>"
      ]
    },
    {
      "cell_type": "code",
      "source": [
        "!pip3 install -U \"pulp==2.1\""
      ],
      "metadata": {
        "colab": {
          "base_uri": "https://localhost:8080/"
        },
        "id": "QFmOCxqmkoRE",
        "outputId": "413a29ca-a3bb-4176-82d8-542d0a081be1"
      },
      "execution_count": null,
      "outputs": [
        {
          "output_type": "stream",
          "name": "stdout",
          "text": [
            "Looking in indexes: https://pypi.org/simple, https://us-python.pkg.dev/colab-wheels/public/simple/\n",
            "Collecting pulp==2.1\n",
            "  Downloading PuLP-2.1-py3-none-any.whl (40.6 MB)\n",
            "\u001b[2K     \u001b[90m━━━━━━━━━━━━━━━━━━━━━━━━━━━━━━━━━━━━━━━━\u001b[0m \u001b[32m40.6/40.6 MB\u001b[0m \u001b[31m19.0 MB/s\u001b[0m eta \u001b[36m0:00:00\u001b[0m\n",
            "\u001b[?25hRequirement already satisfied: pyparsing>=2.0.1 in /usr/local/lib/python3.9/dist-packages (from pulp==2.1) (3.0.9)\n",
            "Installing collected packages: pulp\n",
            "Successfully installed pulp-2.1\n"
          ]
        }
      ]
    },
    {
      "cell_type": "code",
      "execution_count": null,
      "metadata": {
        "id": "EBsvvGQxjleA"
      },
      "outputs": [],
      "source": [
        "from pulp import LpMaximize, LpProblem, LpStatus, lpSum, LpVariable"
      ]
    },
    {
      "cell_type": "markdown",
      "source": [
        "# Example 1\n",
        "Solve the linear programming problem:\n",
        "\n",
        "maximize: \n",
        "\\begin{equation}\n",
        "z = x + 2y\n",
        "\\end{equation}\n",
        "subject to:\n",
        "\\begin{equation}\n",
        "2x + y <= 20\n",
        "\\end{equation}\n",
        "\\begin{equation}\n",
        "-4x + 5y <= 10\n",
        "\\end{equation}\n",
        "\\begin{equation}\n",
        "-x + 2y >= -2\n",
        "\\end{equation}\n",
        "\\begin{equation}\n",
        "-x + 5y = 15\n",
        "\\end{equation}\n",
        "\\begin{equation}\n",
        "x >= 0\n",
        "\\end{equation}\n",
        "\\begin{equation}\n",
        "y >=0\n",
        "\\end{equation}"
      ],
      "metadata": {
        "id": "kwLEEG-Kj0qL"
      }
    },
    {
      "cell_type": "code",
      "source": [
        "# Create the model\n",
        "model = LpProblem(name=\"small-problem\", sense=LpMaximize) # Here we define that we are trying to maximize the obj function\n",
        "model"
      ],
      "metadata": {
        "colab": {
          "base_uri": "https://localhost:8080/"
        },
        "id": "EmoVUkYvkLF_",
        "outputId": "99510633-31e3-4d26-e189-0cbb9b0b2f0d"
      },
      "execution_count": null,
      "outputs": [
        {
          "output_type": "execute_result",
          "data": {
            "text/plain": [
              "small-problem:\n",
              "MAXIMIZE\n",
              "None\n",
              "VARIABLES"
            ]
          },
          "metadata": {},
          "execution_count": 4
        }
      ]
    },
    {
      "cell_type": "code",
      "source": [
        "# Initailize the decision variables\n",
        "x = LpVariable(name=\"x\", lowBound=0)    # We define the variable constraints here.\n",
        "y = LpVariable(name=\"y\", lowBound=0)"
      ],
      "metadata": {
        "id": "Bnq9-ibbk7Oe"
      },
      "execution_count": null,
      "outputs": []
    },
    {
      "cell_type": "code",
      "source": [
        "# Example: This is how you set an pulp expression\n",
        "z = 2 * x + 4 * y\n",
        "type(z)"
      ],
      "metadata": {
        "colab": {
          "base_uri": "https://localhost:8080/"
        },
        "id": "PbCxOBw_lGYj",
        "outputId": "6893a0a1-2bd7-4ade-996a-22d68a32b8e2"
      },
      "execution_count": null,
      "outputs": [
        {
          "output_type": "execute_result",
          "data": {
            "text/plain": [
              "pulp.pulp.LpAffineExpression"
            ]
          },
          "metadata": {},
          "execution_count": 6
        }
      ]
    },
    {
      "cell_type": "code",
      "source": [
        "# Example: This is how you set an pulp constraint\n",
        "constraint = 2 * x + 4 * y >= 8\n",
        "type(constraint)"
      ],
      "metadata": {
        "colab": {
          "base_uri": "https://localhost:8080/"
        },
        "id": "7cvt8z6ilStn",
        "outputId": "8fb2df4d-6f8d-4f93-84e7-ee2f73f623f9"
      },
      "execution_count": null,
      "outputs": [
        {
          "output_type": "execute_result",
          "data": {
            "text/plain": [
              "pulp.pulp.LpConstraint"
            ]
          },
          "metadata": {},
          "execution_count": 7
        }
      ]
    },
    {
      "cell_type": "code",
      "source": [
        "# Add the constraints to the model. These don't include variable constraints \n",
        "# which were defined when variables were declared.\n",
        "model += (2 * x + y <= 20, \"red_constraint\")\n",
        "model += (4 * x - 5 * y >= -10, \"blue_constraint\")\n",
        "model += (-x + 2 * y >= -2, \"yellow_constraint\")\n",
        "model += (-x + 5 * y == 15, \"green_constraint\")\n",
        "model"
      ],
      "metadata": {
        "colab": {
          "base_uri": "https://localhost:8080/"
        },
        "id": "IEFT8SsllctZ",
        "outputId": "8ad3793b-2bfb-48bb-b102-bf8a712d82c4"
      },
      "execution_count": null,
      "outputs": [
        {
          "output_type": "execute_result",
          "data": {
            "text/plain": [
              "small-problem:\n",
              "MAXIMIZE\n",
              "None\n",
              "SUBJECT TO\n",
              "red_constraint: 2 x + y <= 20\n",
              "\n",
              "blue_constraint: 4 x - 5 y >= -10\n",
              "\n",
              "yellow_constraint: - x + 2 y >= -2\n",
              "\n",
              "green_constraint: - x + 5 y = 15\n",
              "\n",
              "VARIABLES\n",
              "x Continuous\n",
              "y Continuous"
            ]
          },
          "metadata": {},
          "execution_count": 8
        }
      ]
    },
    {
      "cell_type": "code",
      "source": [
        "# Add the objective function to the model\n",
        "obj_func = x + 2 * y\n",
        "model += obj_func"
      ],
      "metadata": {
        "id": "iMzRjJ7VmAMI"
      },
      "execution_count": null,
      "outputs": []
    },
    {
      "cell_type": "code",
      "source": [
        "model"
      ],
      "metadata": {
        "colab": {
          "base_uri": "https://localhost:8080/"
        },
        "id": "wPVHwR3-mabP",
        "outputId": "ab89ded2-eb44-44ed-f2a5-f131067af24e"
      },
      "execution_count": null,
      "outputs": [
        {
          "output_type": "execute_result",
          "data": {
            "text/plain": [
              "small-problem:\n",
              "MAXIMIZE\n",
              "1*x + 2*y + 0\n",
              "SUBJECT TO\n",
              "red_constraint: 2 x + y <= 20\n",
              "\n",
              "blue_constraint: 4 x - 5 y >= -10\n",
              "\n",
              "yellow_constraint: - x + 2 y >= -2\n",
              "\n",
              "green_constraint: - x + 5 y = 15\n",
              "\n",
              "VARIABLES\n",
              "x Continuous\n",
              "y Continuous"
            ]
          },
          "metadata": {},
          "execution_count": 10
        }
      ]
    },
    {
      "cell_type": "code",
      "source": [
        "# Solve the problem\n",
        "status = model.solve()\n",
        "status"
      ],
      "metadata": {
        "colab": {
          "base_uri": "https://localhost:8080/"
        },
        "id": "QqqjFPaFmbSz",
        "outputId": "99be8ed1-5a87-42ce-ec86-774a94b795bd"
      },
      "execution_count": null,
      "outputs": [
        {
          "output_type": "execute_result",
          "data": {
            "text/plain": [
              "1"
            ]
          },
          "metadata": {},
          "execution_count": 11
        }
      ]
    },
    {
      "cell_type": "code",
      "source": [
        "print(f\"status: {model.status}, {LpStatus[model.status]}\")\n",
        "\n",
        "print(f\"objective: {model.objective.value()}\")\n",
        "for var in model.variables():\n",
        "  print(f\"{var.name}: {var.value()}\")\n",
        "\n",
        "for name, constraint in model.constraints.items():\n",
        "  print(f\"{name}: {constraint.value()}\")"
      ],
      "metadata": {
        "colab": {
          "base_uri": "https://localhost:8080/"
        },
        "id": "vPk8qZnwmlKi",
        "outputId": "b29741df-4fc9-4074-ba57-fb8d35ccf661"
      },
      "execution_count": null,
      "outputs": [
        {
          "output_type": "stream",
          "name": "stdout",
          "text": [
            "status: 1, Optimal\n",
            "objective: 16.8181817\n",
            "x: 7.7272727\n",
            "y: 4.5454545\n",
            "red_constraint: -9.99999993922529e-08\n",
            "blue_constraint: 18.181818300000003\n",
            "yellow_constraint: 3.3636362999999996\n",
            "green_constraint: -2.0000000233721948e-07\n"
          ]
        }
      ]
    },
    {
      "cell_type": "code",
      "source": [
        "model.variables()"
      ],
      "metadata": {
        "colab": {
          "base_uri": "https://localhost:8080/"
        },
        "id": "QDTKNvwsmwIU",
        "outputId": "749efe79-eaeb-495a-daa3-b9ff7bddd732"
      },
      "execution_count": null,
      "outputs": [
        {
          "output_type": "execute_result",
          "data": {
            "text/plain": [
              "[x, y]"
            ]
          },
          "metadata": {},
          "execution_count": 13
        }
      ]
    },
    {
      "cell_type": "code",
      "source": [
        "model.solver"
      ],
      "metadata": {
        "colab": {
          "base_uri": "https://localhost:8080/"
        },
        "id": "lcJF8lAGnCIW",
        "outputId": "c3b87400-0a80-4f83-c339-b08cbb09150b"
      },
      "execution_count": null,
      "outputs": [
        {
          "output_type": "execute_result",
          "data": {
            "text/plain": [
              "<pulp.apis.coin_api.PULP_CBC_CMD at 0x7f7e0338b6d0>"
            ]
          },
          "metadata": {},
          "execution_count": 14
        }
      ]
    },
    {
      "cell_type": "markdown",
      "source": [
        "# Example 2\n",
        "Solve the linear programming problem:\n",
        "\n",
        "maximize: \n",
        "\\begin{equation}\n",
        "z = 20 * x_1 + 12 * x_2 + 40 * x_3 + 25 * x_4\n",
        "\\end{equation}\n",
        "\n",
        "subject to:\n",
        "\\begin{equation}\n",
        "x_1 + x_2 + x_3 + x_4 <= 50\n",
        "\\end{equation}\n",
        "\n",
        "\\begin{equation}\n",
        "3 * x_1 + 2*x_2 + x_3 <= 100\n",
        "\\end{equation}\n",
        "\n",
        "\\begin{equation}\n",
        "x_2 + 2 * x_3 + 3 * x_4 <= 90\n",
        "\\end{equation}\n",
        "\n",
        "\\begin{equation}\n",
        "x_1, x_2, x_3, x_4 >= 0\n",
        "\\end{equation}"
      ],
      "metadata": {
        "id": "76wdw5kvnEU2"
      }
    },
    {
      "cell_type": "code",
      "source": [
        "# Create the model\n",
        "model = LpProblem(name=\"Resource-Allocation\", sense=LpMaximize)\n",
        "model"
      ],
      "metadata": {
        "colab": {
          "base_uri": "https://localhost:8080/"
        },
        "id": "DlAR6ajBoJ82",
        "outputId": "3570d1f3-5a0f-4928-eed2-104f4001b8bc"
      },
      "execution_count": null,
      "outputs": [
        {
          "output_type": "execute_result",
          "data": {
            "text/plain": [
              "Resource-Allocation:\n",
              "MAXIMIZE\n",
              "None\n",
              "VARIABLES"
            ]
          },
          "metadata": {},
          "execution_count": 15
        }
      ]
    },
    {
      "cell_type": "code",
      "source": [
        "# Initailize the decision variables\n",
        "a = LpVariable(name=\"a\", lowBound=0)\n",
        "b = LpVariable(name=\"b\", lowBound=0)\n",
        "c = LpVariable(name=\"c\", lowBound=0)\n",
        "d = LpVariable(name=\"d\", lowBound=0)"
      ],
      "metadata": {
        "id": "Z0T-vvUeo2U-"
      },
      "execution_count": null,
      "outputs": []
    },
    {
      "cell_type": "code",
      "source": [
        "obj_func = 20*a + 12*b + 40*c + 25*d\n",
        "model += obj_func\n",
        "model"
      ],
      "metadata": {
        "colab": {
          "base_uri": "https://localhost:8080/"
        },
        "id": "gGpff4fYokbc",
        "outputId": "9594d800-5e60-4bc1-bd12-db4be48d043d"
      },
      "execution_count": null,
      "outputs": [
        {
          "output_type": "execute_result",
          "data": {
            "text/plain": [
              "Resource-Allocation:\n",
              "MAXIMIZE\n",
              "20*a + 12*b + 40*c + 25*d + 0\n",
              "VARIABLES\n",
              "a Continuous\n",
              "b Continuous\n",
              "c Continuous\n",
              "d Continuous"
            ]
          },
          "metadata": {},
          "execution_count": 17
        }
      ]
    },
    {
      "cell_type": "code",
      "source": [
        "# Add the constraints to the model\n",
        "model += (a + b + c + d  <= 50, \"red_constraint\")\n",
        "model += (3*a + 2*b + c  <= 100, \"blue_constraint\")\n",
        "model += (b + 2*c + 3*d <= 90, \"yellow_constraint\")\n",
        "\n",
        "model"
      ],
      "metadata": {
        "colab": {
          "base_uri": "https://localhost:8080/"
        },
        "id": "_6fzLkONoynI",
        "outputId": "c7dafe3e-d478-45d6-da95-cc0d1413a81e"
      },
      "execution_count": null,
      "outputs": [
        {
          "output_type": "execute_result",
          "data": {
            "text/plain": [
              "Resource-Allocation:\n",
              "MAXIMIZE\n",
              "20*a + 12*b + 40*c + 25*d + 0\n",
              "SUBJECT TO\n",
              "red_constraint: a + b + c + d <= 50\n",
              "\n",
              "blue_constraint: 3 a + 2 b + c <= 100\n",
              "\n",
              "yellow_constraint: b + 2 c + 3 d <= 90\n",
              "\n",
              "VARIABLES\n",
              "a Continuous\n",
              "b Continuous\n",
              "c Continuous\n",
              "d Continuous"
            ]
          },
          "metadata": {},
          "execution_count": 18
        }
      ]
    },
    {
      "cell_type": "code",
      "source": [
        "# Solve the problem\n",
        "status = model.solve()\n",
        "status"
      ],
      "metadata": {
        "colab": {
          "base_uri": "https://localhost:8080/"
        },
        "id": "la-J_UMYpcfE",
        "outputId": "08b3f851-855f-4e07-de16-8d264949a9bb"
      },
      "execution_count": null,
      "outputs": [
        {
          "output_type": "execute_result",
          "data": {
            "text/plain": [
              "1"
            ]
          },
          "metadata": {},
          "execution_count": 19
        }
      ]
    },
    {
      "cell_type": "code",
      "source": [
        "print(f\"status: {model.status}, {LpStatus[model.status]}\")\n",
        "\n",
        "print(f\"objective: {model.objective.value()}\")\n",
        "for var in model.variables():\n",
        "  print(f\"{var.name}: {var.value()}\")\n",
        "\n",
        "for name, constraint in model.constraints.items():\n",
        "  print(f\"{name}: {constraint.value()}\")"
      ],
      "metadata": {
        "colab": {
          "base_uri": "https://localhost:8080/"
        },
        "id": "icF7RtKCphKU",
        "outputId": "c0d5ecea-c610-4909-903d-aebfe910114b"
      },
      "execution_count": null,
      "outputs": [
        {
          "output_type": "stream",
          "name": "stdout",
          "text": [
            "status: 1, Optimal\n",
            "objective: 1900.0\n",
            "a: 5.0\n",
            "b: 0.0\n",
            "c: 45.0\n",
            "d: 0.0\n",
            "red_constraint: 0.0\n",
            "blue_constraint: -40.0\n",
            "yellow_constraint: 0.0\n"
          ]
        }
      ]
    },
    {
      "cell_type": "markdown",
      "source": [
        "# Example 3\n",
        "\n",
        "Maximize:\n",
        "\\begin{equation}\n",
        "z = 5*x + 3 *y\n",
        "\\end{equation}\n",
        "\n",
        "Subject to:\n",
        "\\begin{equation}\n",
        "x + 2 * y <= 14\n",
        "\\end{equation}\n",
        "\n",
        "\\begin{equation}\n",
        "3*x - y >= 0\n",
        "\\end{equation}\n",
        "\n",
        "\\begin{equation}\n",
        "x - y <= 2\n",
        "\\end{equation}"
      ],
      "metadata": {
        "id": "VOAQkU16pjhZ"
      }
    },
    {
      "cell_type": "code",
      "source": [
        "# Create the model\n",
        "model = LpProblem(name=\"Resource-Allocation\", sense=LpMaximize)\n",
        "model"
      ],
      "metadata": {
        "colab": {
          "base_uri": "https://localhost:8080/"
        },
        "id": "gx_8k07brQ7a",
        "outputId": "4f8d91fa-3267-4ff8-b4b2-c715148db1e8"
      },
      "execution_count": null,
      "outputs": [
        {
          "output_type": "execute_result",
          "data": {
            "text/plain": [
              "Resource-Allocation:\n",
              "MAXIMIZE\n",
              "None\n",
              "VARIABLES"
            ]
          },
          "metadata": {},
          "execution_count": 21
        }
      ]
    },
    {
      "cell_type": "code",
      "source": [
        "# Initailize the decision variables\n",
        "x = LpVariable(name=\"x\", lowBound=0)\n",
        "y = LpVariable(name=\"y\", lowBound=0)"
      ],
      "metadata": {
        "id": "hqLjgZMHrU5-"
      },
      "execution_count": null,
      "outputs": []
    },
    {
      "cell_type": "code",
      "source": [
        "obj_func = 5 * x + 3 * y\n",
        "model += obj_func\n",
        "model"
      ],
      "metadata": {
        "colab": {
          "base_uri": "https://localhost:8080/"
        },
        "id": "u7Z3XRsqrZbx",
        "outputId": "af23b4c4-bd94-47c6-a738-a268e04c5774"
      },
      "execution_count": null,
      "outputs": [
        {
          "output_type": "execute_result",
          "data": {
            "text/plain": [
              "Resource-Allocation:\n",
              "MAXIMIZE\n",
              "5*x + 3*y + 0\n",
              "VARIABLES\n",
              "x Continuous\n",
              "y Continuous"
            ]
          },
          "metadata": {},
          "execution_count": 23
        }
      ]
    },
    {
      "cell_type": "code",
      "source": [
        "# Add the constraints to the model\n",
        "model += (x + 2*y  <= 14, \"red_constraint\")\n",
        "model += (3*x - y  >= 0, \"blue_constraint\")\n",
        "model += (x - y  <= 2, \"yellow_constraint\")\n",
        "\n",
        "model"
      ],
      "metadata": {
        "colab": {
          "base_uri": "https://localhost:8080/"
        },
        "id": "7unA6i8Qrg9-",
        "outputId": "a3134b02-e561-44f5-c4ef-41a2dc048024"
      },
      "execution_count": null,
      "outputs": [
        {
          "output_type": "execute_result",
          "data": {
            "text/plain": [
              "Resource-Allocation:\n",
              "MAXIMIZE\n",
              "5*x + 3*y + 0\n",
              "SUBJECT TO\n",
              "red_constraint: x + 2 y <= 14\n",
              "\n",
              "blue_constraint: 3 x - y >= 0\n",
              "\n",
              "yellow_constraint: x - y <= 2\n",
              "\n",
              "VARIABLES\n",
              "x Continuous\n",
              "y Continuous"
            ]
          },
          "metadata": {},
          "execution_count": 24
        }
      ]
    },
    {
      "cell_type": "code",
      "source": [
        "# Solve the problem\n",
        "status = model.solve()\n",
        "status"
      ],
      "metadata": {
        "colab": {
          "base_uri": "https://localhost:8080/"
        },
        "id": "_wMiWRykrts5",
        "outputId": "7303315b-d396-411d-fd46-f6b7a45d2ec7"
      },
      "execution_count": null,
      "outputs": [
        {
          "output_type": "execute_result",
          "data": {
            "text/plain": [
              "1"
            ]
          },
          "metadata": {},
          "execution_count": 25
        }
      ]
    },
    {
      "cell_type": "code",
      "source": [
        "print(f\"status: {model.status}, {LpStatus[model.status]}\")\n",
        "\n",
        "print(f\"objective: {model.objective.value()}\")\n",
        "for var in model.variables():\n",
        "  print(f\"{var.name}: {var.value()}\")\n",
        "\n",
        "for name, constraint in model.constraints.items():\n",
        "  print(f\"{name}: {constraint.value()}\")"
      ],
      "metadata": {
        "colab": {
          "base_uri": "https://localhost:8080/"
        },
        "id": "hF2S-AH4rwgs",
        "outputId": "6ee46a34-86a5-493b-bfb3-ce8c17cfe866"
      },
      "execution_count": null,
      "outputs": [
        {
          "output_type": "stream",
          "name": "stdout",
          "text": [
            "status: 1, Optimal\n",
            "objective: 42.0\n",
            "x: 6.0\n",
            "y: 4.0\n",
            "red_constraint: 0.0\n",
            "blue_constraint: 14.0\n",
            "yellow_constraint: 0.0\n"
          ]
        }
      ]
    },
    {
      "cell_type": "code",
      "source": [],
      "metadata": {
        "id": "Qbs0ewHdrzsC"
      },
      "execution_count": null,
      "outputs": []
    },
    {
      "cell_type": "markdown",
      "source": [
        "## Example 4"
      ],
      "metadata": {
        "id": "yRjeO_47KEXB"
      }
    },
    {
      "cell_type": "code",
      "source": [
        "# Create the model\n",
        "model = LpProblem(name=\"Resource-Allocation\", sense=LpMaximize)\n",
        "model"
      ],
      "metadata": {
        "colab": {
          "base_uri": "https://localhost:8080/"
        },
        "id": "y3Snhl3LKFwC",
        "outputId": "39119c83-b116-438c-d2eb-ec20aa9b14cb"
      },
      "execution_count": null,
      "outputs": [
        {
          "output_type": "execute_result",
          "data": {
            "text/plain": [
              "Resource-Allocation:\n",
              "MAXIMIZE\n",
              "None\n",
              "VARIABLES"
            ]
          },
          "metadata": {},
          "execution_count": 27
        }
      ]
    },
    {
      "cell_type": "code",
      "source": [
        "# Initailize the decision variables\n",
        "f1 = LpVariable(name=\"f1\", lowBound=2, upBound=5)\n",
        "g1 = LpVariable(name=\"g1\", lowBound=3, upBound=4)\n",
        "h1 = LpVariable(name=\"h1\", lowBound=1, upBound=1)\n",
        "\n",
        "f2 = LpVariable(name=\"f2\", lowBound=2, upBound=5)\n",
        "g2 = LpVariable(name=\"g2\", lowBound=3, upBound=4)\n",
        "h2 = LpVariable(name=\"h2\", lowBound=1, upBound=1)"
      ],
      "metadata": {
        "id": "-Qb7BlD_KIKY"
      },
      "execution_count": null,
      "outputs": []
    },
    {
      "cell_type": "code",
      "source": [
        "obj_func = f1 + f2 + g1 + g2 + h1 + h2\n",
        "model += obj_func\n",
        "model"
      ],
      "metadata": {
        "colab": {
          "base_uri": "https://localhost:8080/"
        },
        "id": "IQRqNZQYKO3w",
        "outputId": "6d897ac9-aefa-4dd6-fda3-e35852976e62"
      },
      "execution_count": null,
      "outputs": [
        {
          "output_type": "execute_result",
          "data": {
            "text/plain": [
              "Resource-Allocation:\n",
              "MAXIMIZE\n",
              "1*f1 + 1*f2 + 1*g1 + 1*g2 + 1*h1 + 1*h2 + 0\n",
              "VARIABLES\n",
              "2 <= f1 <= 5 Continuous\n",
              "2 <= f2 <= 5 Continuous\n",
              "3 <= g1 <= 4 Continuous\n",
              "3 <= g2 <= 4 Continuous\n",
              "h1 = 1 Continuous\n",
              "h2 = 1 Continuous"
            ]
          },
          "metadata": {},
          "execution_count": 29
        }
      ]
    },
    {
      "cell_type": "code",
      "source": [
        "# Solve the problem\n",
        "status = model.solve()\n",
        "status"
      ],
      "metadata": {
        "colab": {
          "base_uri": "https://localhost:8080/"
        },
        "id": "2AbcEu5xKXwX",
        "outputId": "5e89e39d-8dd3-4402-e82f-f9d38eb60504"
      },
      "execution_count": null,
      "outputs": [
        {
          "output_type": "execute_result",
          "data": {
            "text/plain": [
              "1"
            ]
          },
          "metadata": {},
          "execution_count": 30
        }
      ]
    },
    {
      "cell_type": "code",
      "source": [
        "print(f\"status: {model.status}, {LpStatus[model.status]}\")\n",
        "\n",
        "print(f\"objective: {model.objective.value()}\")\n",
        "for var in model.variables():\n",
        "  print(f\"{var.name}: {var.value()}\")\n",
        "\n",
        "for name, constraint in model.constraints.items():\n",
        "  print(f\"{name}: {constraint.value()}\")"
      ],
      "metadata": {
        "colab": {
          "base_uri": "https://localhost:8080/"
        },
        "id": "XLQgJcqRKcDB",
        "outputId": "d0fda65b-3f1a-4230-acc4-5d0acb5b6616"
      },
      "execution_count": null,
      "outputs": [
        {
          "output_type": "stream",
          "name": "stdout",
          "text": [
            "status: 1, Optimal\n",
            "objective: 20.0\n",
            "f1: 5.0\n",
            "f2: 5.0\n",
            "g1: 4.0\n",
            "g2: 4.0\n",
            "h1: 1.0\n",
            "h2: 1.0\n"
          ]
        }
      ]
    },
    {
      "cell_type": "markdown",
      "source": [
        "## Example 5"
      ],
      "metadata": {
        "id": "EVk-vRW-Ke_I"
      }
    },
    {
      "cell_type": "code",
      "source": [
        "# Create the model\n",
        "model = LpProblem(name=\"Resource-Allocation\", sense=LpMaximize)\n",
        "model"
      ],
      "metadata": {
        "colab": {
          "base_uri": "https://localhost:8080/"
        },
        "id": "RdJqSQ1oPaum",
        "outputId": "7d27b06b-4717-4c93-e28d-cbc312f8d4dc"
      },
      "execution_count": null,
      "outputs": [
        {
          "output_type": "execute_result",
          "data": {
            "text/plain": [
              "Resource-Allocation:\n",
              "MAXIMIZE\n",
              "None\n",
              "VARIABLES"
            ]
          },
          "metadata": {},
          "execution_count": 36
        }
      ]
    },
    {
      "cell_type": "code",
      "source": [
        "# Initailize the decision variables\n",
        "f = LpVariable(name=\"f\", lowBound=2, upBound=5)\n",
        "g = LpVariable(name=\"g\", lowBound=3, upBound=4)\n",
        "h = LpVariable(name=\"h\", lowBound=1, upBound=1)"
      ],
      "metadata": {
        "id": "KrA-AMWBPbW9"
      },
      "execution_count": null,
      "outputs": []
    },
    {
      "cell_type": "code",
      "source": [
        "obj_func = 9/5 * f + 3/2 * g + 2*h\n",
        "model += obj_func\n",
        "model"
      ],
      "metadata": {
        "colab": {
          "base_uri": "https://localhost:8080/"
        },
        "id": "HIPbyH5MPrkS",
        "outputId": "ccdf7397-38b1-4bf5-850c-fca666d38bc8"
      },
      "execution_count": null,
      "outputs": [
        {
          "output_type": "execute_result",
          "data": {
            "text/plain": [
              "Resource-Allocation:\n",
              "MAXIMIZE\n",
              "1.8*f + 1.5*g + 2*h + 0.0\n",
              "VARIABLES\n",
              "2 <= f <= 5 Continuous\n",
              "3 <= g <= 4 Continuous\n",
              "h = 1 Continuous"
            ]
          },
          "metadata": {},
          "execution_count": 38
        }
      ]
    },
    {
      "cell_type": "code",
      "source": [
        "# Solve the problem\n",
        "status = model.solve()\n",
        "status"
      ],
      "metadata": {
        "id": "FYS7SXl6QGEm",
        "outputId": "264c506d-4e53-48b5-c32c-b7c125adcb80",
        "colab": {
          "base_uri": "https://localhost:8080/"
        }
      },
      "execution_count": null,
      "outputs": [
        {
          "output_type": "execute_result",
          "data": {
            "text/plain": [
              "1"
            ]
          },
          "metadata": {},
          "execution_count": 39
        }
      ]
    },
    {
      "cell_type": "code",
      "source": [
        "print(f\"status: {model.status}, {LpStatus[model.status]}\")\n",
        "\n",
        "print(f\"objective: {model.objective.value()}\")\n",
        "for var in model.variables():\n",
        "  print(f\"{var.name}: {var.value()}\")\n",
        "\n",
        "for name, constraint in model.constraints.items():\n",
        "  print(f\"{name}: {constraint.value()}\")"
      ],
      "metadata": {
        "colab": {
          "base_uri": "https://localhost:8080/"
        },
        "id": "lVJVt-8AP6tt",
        "outputId": "6fe7388d-bf16-43be-9980-8fbb2b87114b"
      },
      "execution_count": null,
      "outputs": [
        {
          "output_type": "stream",
          "name": "stdout",
          "text": [
            "status: 1, Optimal\n",
            "objective: 17.0\n",
            "f: 5.0\n",
            "g: 4.0\n",
            "h: 1.0\n"
          ]
        }
      ]
    },
    {
      "cell_type": "code",
      "source": [],
      "metadata": {
        "id": "BNPevEsaQIBf"
      },
      "execution_count": null,
      "outputs": []
    }
  ]
}